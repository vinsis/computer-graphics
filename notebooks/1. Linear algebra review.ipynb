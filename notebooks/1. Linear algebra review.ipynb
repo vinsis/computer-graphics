{
 "cells": [
  {
   "cell_type": "markdown",
   "id": "8d24b23f",
   "metadata": {},
   "source": [
    "# 1. Different ways to think of vector - Matrix multiplications\n",
    "\n",
    "## 1a) Matrix `M` * column vector `v` is a weighted sum of columns of `M` where the weights come from the values of `v`\n",
    "\n",
    "$\\begin{bmatrix} \n",
    "| & | & | \\\\\n",
    "| & | & | \\\\\n",
    "c_1 & c_2 & c_3 \\\\\n",
    "| & | & | \\\\\n",
    "| & | & | \\\\\n",
    "\\end{bmatrix} \\begin{bmatrix} w_1 \\\\ w_2 \\\\ w_3 \\end{bmatrix} = w_1\\begin{bmatrix} | \\\\ | \\\\ c_1 \\\\ | \\\\ |\\end{bmatrix} + w_2\\begin{bmatrix} | \\\\ | \\\\ c_2 \\\\ | \\\\ |\\end{bmatrix} + w_3\\begin{bmatrix} | \\\\ | \\\\ c_3 \\\\ | \\\\ |\\end{bmatrix}$"
   ]
  },
  {
   "cell_type": "code",
   "execution_count": 1,
   "id": "22e78c92",
   "metadata": {},
   "outputs": [],
   "source": [
    "import numpy as np\n",
    "import operator\n",
    "from PIL import Image\n",
    "import IPython"
   ]
  },
  {
   "cell_type": "code",
   "execution_count": 2,
   "id": "b484755a",
   "metadata": {},
   "outputs": [],
   "source": [
    "def array_scalar_operation(operation, array, scalar):\n",
    "    return [operation(i, scalar) for i in array]\n",
    "\n",
    "def elementwise_operation(operation, *args):\n",
    "    return [operation(i) for i in zip(*args)]\n",
    "\n",
    "def dot_product(vector1, vector2):\n",
    "    return sum([v1*v2 for (v1,v2) in zip(vector1, vector2)])\n",
    "\n",
    "def transpose(array_of_arrays):\n",
    "    return [[array[i] for array in array_of_arrays] for i in range(len(array_of_arrays[0]))]\n",
    "\n",
    "cols = [[1,2,3], [4,5,6], [7,8,9], [10,11,12]]\n",
    "weights = [1,2,3,4]"
   ]
  },
  {
   "cell_type": "code",
   "execution_count": 3,
   "id": "8092c0bb",
   "metadata": {},
   "outputs": [
    {
     "data": {
      "text/plain": [
       "[70, 80, 90]"
      ]
     },
     "execution_count": 3,
     "metadata": {},
     "output_type": "execute_result"
    }
   ],
   "source": [
    "weighted_cols = [array_scalar_operation(operator.mul, col, weight) for (col, weight) in zip(cols, weights)]\n",
    "elementwise_operation(sum, *weighted_cols)"
   ]
  },
  {
   "cell_type": "code",
   "execution_count": 4,
   "id": "0714a695",
   "metadata": {},
   "outputs": [
    {
     "data": {
      "text/plain": [
       "array([70, 80, 90])"
      ]
     },
     "execution_count": 4,
     "metadata": {},
     "output_type": "execute_result"
    }
   ],
   "source": [
    "np.asanyarray(cols).T @ weights"
   ]
  },
  {
   "cell_type": "markdown",
   "id": "7ff8b864",
   "metadata": {},
   "source": [
    "## 1b)  Row vector `v` * Matrix `M` is a weighted sum of rows of `M` where the weights come from the values of `v`\n",
    "\n",
    "$\\begin{bmatrix} w_1 & w_2 & w_3 \\end{bmatrix}\n",
    "\\begin{bmatrix} \n",
    "— & — & r_1 & — & — \\\\\n",
    "— & — & r_2 & — & — \\\\\n",
    "— & — & r_3 & — & — \\\\\n",
    "\\end{bmatrix} = w_1\\begin{bmatrix} \n",
    "— & — & r_1 & — & — \\end{bmatrix} + w_2\\begin{bmatrix} \n",
    "— & — & r_2 & — & — \\end{bmatrix} + w_3\\begin{bmatrix} \n",
    "— & — & r_3 & — & — \\end{bmatrix} $"
   ]
  },
  {
   "cell_type": "code",
   "execution_count": 5,
   "id": "726887de",
   "metadata": {},
   "outputs": [],
   "source": [
    "rows = [[1,2,3,4], [5,6,7,8], [9,10,11,12]]\n",
    "weights = [1,2,3]"
   ]
  },
  {
   "cell_type": "code",
   "execution_count": 6,
   "id": "f7099220",
   "metadata": {},
   "outputs": [
    {
     "data": {
      "text/plain": [
       "[38, 44, 50, 56]"
      ]
     },
     "execution_count": 6,
     "metadata": {},
     "output_type": "execute_result"
    }
   ],
   "source": [
    "weighted_rows = [array_scalar_operation(operator.mul, row, weight) for (row, weight) in zip(rows, weights)]\n",
    "elementwise_operation(sum, *weighted_rows)"
   ]
  },
  {
   "cell_type": "code",
   "execution_count": 7,
   "id": "ae7dd48f",
   "metadata": {},
   "outputs": [
    {
     "data": {
      "text/plain": [
       "array([38, 44, 50, 56])"
      ]
     },
     "execution_count": 7,
     "metadata": {},
     "output_type": "execute_result"
    }
   ],
   "source": [
    "weights @ np.asanyarray(rows)"
   ]
  },
  {
   "cell_type": "markdown",
   "id": "2833fe26",
   "metadata": {},
   "source": [
    "## 2a) Matrix `M` * column vector `v` is a column vector where `value at index i` = `dot product between row i of M and vector v`\n",
    "\n",
    "$ \\begin{bmatrix} \n",
    "— & — & r_1 & — & — \\\\\n",
    "— & — & r_2 & — & — \\\\\n",
    "— & — & r_3 & — & — \\\\\n",
    "\\end{bmatrix} \\begin{bmatrix} w_1 \\\\ w_2 \\\\ w_3 \\\\ w_4 \\\\ w_5 \\end{bmatrix} $ = \n",
    "$\\begin{bmatrix} <r_1, w> \\\\ <r_2, w> \\\\ <r_3, w> \\\\ \\end{bmatrix} $\n",
    "\n",
    "where $w = \\begin{bmatrix} w_1 \\\\ w_2 \\\\ w_3 \\\\ w_4 \\\\ w_5 \\end{bmatrix}$ and $<v_1, v_2>$ is dot product of vectors $v_1$ and $v_2$"
   ]
  },
  {
   "cell_type": "code",
   "execution_count": 8,
   "id": "80ad9fba",
   "metadata": {},
   "outputs": [],
   "source": [
    "cols = [[1,2,3], [4,5,6], [7,8,9], [10,11,12]]\n",
    "weights = [1,2,3,4]"
   ]
  },
  {
   "cell_type": "code",
   "execution_count": 9,
   "id": "5ba4ff72",
   "metadata": {},
   "outputs": [
    {
     "data": {
      "text/plain": [
       "[[1, 4, 7, 10], [2, 5, 8, 11], [3, 6, 9, 12]]"
      ]
     },
     "execution_count": 9,
     "metadata": {},
     "output_type": "execute_result"
    }
   ],
   "source": [
    "rows = transpose(cols)\n",
    "rows"
   ]
  },
  {
   "cell_type": "code",
   "execution_count": 10,
   "id": "41c4c964",
   "metadata": {},
   "outputs": [
    {
     "data": {
      "text/plain": [
       "[70, 80, 90]"
      ]
     },
     "execution_count": 10,
     "metadata": {},
     "output_type": "execute_result"
    }
   ],
   "source": [
    "[dot_product(row, weights) for row in rows]"
   ]
  },
  {
   "cell_type": "markdown",
   "id": "141ff9ae",
   "metadata": {},
   "source": [
    "## 2b) Row vector `v` * Matrix `M` is a row vector where `value at index i` = `dot product between column i of M and vector v`\n",
    "\n",
    "$\\begin{bmatrix} w_1 & w_2 & w_3 & w_4 & w_5 \\end{bmatrix}\n",
    "\\begin{bmatrix} \n",
    "| & | & | \\\\\n",
    "| & | & | \\\\\n",
    "c_1 & c_2 & c_3 \\\\\n",
    "| & | & | \\\\\n",
    "| & | & | \\\\\n",
    "\\end{bmatrix} = \n",
    "\\begin{bmatrix} <w, c_1> & <w, c_2> & <w, c_3> \\end{bmatrix}\n",
    "$\n",
    "\n",
    "where $w = \\begin{bmatrix} w_1 & w_2 & w_3 & w_4 & w_5 \\end{bmatrix}$ and $<v_1, v_2>$ is dot product of vectors $v_1$ and $v_2$"
   ]
  },
  {
   "cell_type": "code",
   "execution_count": 11,
   "id": "5d806ad5",
   "metadata": {},
   "outputs": [],
   "source": [
    "rows = [[1,2,3,4], [5,6,7,8], [9,10,11,12]]\n",
    "weights = [1,2,3]"
   ]
  },
  {
   "cell_type": "code",
   "execution_count": 12,
   "id": "804584bf",
   "metadata": {},
   "outputs": [
    {
     "data": {
      "text/plain": [
       "[[1, 5, 9], [2, 6, 10], [3, 7, 11], [4, 8, 12]]"
      ]
     },
     "execution_count": 12,
     "metadata": {},
     "output_type": "execute_result"
    }
   ],
   "source": [
    "cols = transpose(rows)\n",
    "cols"
   ]
  },
  {
   "cell_type": "code",
   "execution_count": 13,
   "id": "afbf8fdc",
   "metadata": {},
   "outputs": [
    {
     "data": {
      "text/plain": [
       "[38, 44, 50, 56]"
      ]
     },
     "execution_count": 13,
     "metadata": {},
     "output_type": "execute_result"
    }
   ],
   "source": [
    "[dot_product(weights, col) for col in cols]"
   ]
  },
  {
   "cell_type": "markdown",
   "id": "b83efae4",
   "metadata": {},
   "source": [
    "---\n",
    "\n",
    "# 2. Matrix multiplication\n",
    "\n",
    "## 2.1 Matrix `A` * Matrix `B` can be seen as:\n",
    "\n",
    "### 1. An array of column vectors $[c_0, c_1, ...]$ where $c_i = A * $ (column `i` of `B`)\n",
    "\n",
    "### 2. An array of row vectors $[r_0, r_1, ...]$ where $r_i = $ (row `i` of `A`) $ * B$\n",
    "\n",
    "A tricky part is to learn to represent a operation as a matrix multiplication (whenever possible - it is possible iff the operation is linear)\n",
    "\n",
    "## 2.2 Some examples of Matrix multiplications:\n",
    "\n",
    "### 1. Shuffling elements of an array\n",
    "\n",
    "$[a,b,c] \\rightarrow [b,a,c]$ is the same as:\n",
    "\n",
    "$\\begin{bmatrix} \n",
    "0 & 1 & 0 \\\\ \n",
    "1 & 0 & 0 \\\\\n",
    "0 & 0 & 1\n",
    "\\end{bmatrix}$ $\\begin{bmatrix} \n",
    "a \\\\ \n",
    "b \\\\\n",
    "c\n",
    "\\end{bmatrix}$ = $\\begin{bmatrix} \n",
    "b \\\\ \n",
    "a \\\\\n",
    "c\n",
    "\\end{bmatrix}$\n",
    "\n",
    "Such a matrix is called [permutation matrix](https://en.wikipedia.org/wiki/Permutation_matrix).\n",
    "\n",
    "### 2. Dot product is an output of row vector * column vector\n",
    "$\\begin{bmatrix} \n",
    "x & y & z\n",
    "\\end{bmatrix} . \\begin{bmatrix} \n",
    "a \\\\ \n",
    "b \\\\\n",
    "c\n",
    "\\end{bmatrix} = \\begin{bmatrix} \n",
    "ax + by + cz\n",
    "\\end{bmatrix} = ax + by + cz$\n",
    "\n",
    "(We will consider a scalar as a matrix with just one row and one column)\n"
   ]
  },
  {
   "cell_type": "markdown",
   "id": "190bc3a0",
   "metadata": {},
   "source": [
    "## 2.3 We can interpret weighted sum of arrays (columns) geometrically\n",
    "\n",
    "$\\begin{bmatrix}\n",
    "3 & -2 & 1 \\\\\n",
    "2 & 1 & 3\n",
    "\\end{bmatrix} . \\begin{bmatrix}\n",
    "1 \\\\\n",
    "3 \\\\\n",
    "2\n",
    "\\end{bmatrix} = \\begin{bmatrix}\n",
    "-1 \\\\\n",
    "11\n",
    "\\end{bmatrix}$\n",
    "\n",
    "can be shown geometrically as navigating a certain path in the output space ($R^2$ here):"
   ]
  },
  {
   "cell_type": "code",
   "execution_count": 14,
   "id": "9492e6c8",
   "metadata": {},
   "outputs": [
    {
     "data": {
      "image/png": "[encoded data removed]",
      "text/plain": [
       "<IPython.core.display.Image object>"
      ]
     },
     "execution_count": 14,
     "metadata": {},
     "output_type": "execute_result"
    }
   ],
   "source": [
    "IPython.display.Image('assets/matmul_ex.png')"
   ]
  },
  {
   "cell_type": "markdown",
   "id": "3c7883f1",
   "metadata": {},
   "source": [
    "---\n",
    "\n",
    "# 3. Basis vectors\n",
    "\n",
    "You can think of the column vectors of the above matrix as the _basis_ of how to walk in 2D space.\n",
    "\n",
    "How much to walk in direction of each of the basis vectors is given by the input vector.\n",
    "\n",
    "This brings us to the next point:\n",
    "\n",
    "__There can be many matrices of _basis vectors_ to navigate the output space__. Let's look at a few examples:\n",
    "\n",
    "> 1. Person A: I ran 3 miles everyday and lost 5 pounds in a month <br>\n",
    "> Person B: How much is that in km and kg?\n",
    "\n",
    "> 2. You discover a planet where aliens use co-ordinate system differently than us: their `x-axis` is in the direction $\\begin{bmatrix} 1 \\\\ 1 \\end{bmatrix}$  and `y-axis` is in the direction $\\begin{bmatrix} -3 \\\\ 2 \\end{bmatrix}$. <br>\n",
    "> Your alien friend tells you their location: $\\begin{bmatrix} 5 \\\\ 4 \\end{bmatrix}$. Which point is it in our _normal_(?) co-ordinate system?\n",
    "\n",
    "### Converting a vector calculated according to one set of basis vectors into another vector calculated using another set (usually the _normal_ set of basis vectors) is called linear transformation\n",
    "\n",
    "$\\begin{bmatrix} \\text{km} \\\\ \\text{kg} \\end{bmatrix} = \\begin{bmatrix} 0.62 & 0 \\\\ 0 & 2.2 \\end{bmatrix} . \\begin{bmatrix} \\text{mile} \\\\ \\text{pound} \\end{bmatrix}$\n",
    "\n",
    "$\\begin{bmatrix} x_{human} \\\\ y_{human} \\end{bmatrix} = \\begin{bmatrix} 1 & -3 \\\\ 1 & 2 \\end{bmatrix} . \\begin{bmatrix} x_{alien} \\\\ y_{alien} \\end{bmatrix}$"
   ]
  },
  {
   "cell_type": "markdown",
   "id": "7c9256d6",
   "metadata": {},
   "source": [
    "---\n",
    "\n",
    "# 4. Polynomials are just like vectors (aka polynomials as vector spaces)\n",
    "\n",
    "$p(x) = a + bx + cx^2 + dx^3$\n",
    "\n",
    "$q(x) = e + fx + gx^2 + hx^3$\n",
    "\n",
    "$p = \\begin{bmatrix} a \\\\ b \\\\ c \\\\ d  \\end{bmatrix}$\n",
    "$q = \\begin{bmatrix} e \\\\ f \\\\ g \\\\ h  \\end{bmatrix}$\n",
    "\n",
    "### You can add two polynomials just like you add two vectors\n",
    "\n",
    "$p(x) + q(x) = (a+e) + (b+f)x + (c+g)x^2 + (d+h)x^3$\n",
    "\n",
    "$p = \\begin{bmatrix} a+e \\\\ b+f \\\\ c+g \\\\ d+h  \\end{bmatrix}$\n",
    "\n",
    "\n",
    "### You can multiply a scalar with a polynomial just like you multiply a scalar with a vector\n",
    "\n",
    "$k*p(x) = ka + kbx + kcx^2 + kdx^3$\n",
    "\n",
    "$kp = \\begin{bmatrix} ka \\\\ kb \\\\ kc \\\\ kd  \\end{bmatrix}$\n",
    "\n",
    "## Basis of a polynomial\n",
    "\n",
    "$\\begin{bmatrix} 1 \\\\ x \\\\ x^2 \\\\ x^3  \\end{bmatrix}$ is the basis of polynomials $p(x) = a + bx + cx^2 + dx^3$ and $q(x) = e + fx + gx^2 + hx^3$.\n",
    "\n",
    "But this is not the only basis. Another possible basis is:\n",
    "\n",
    "$\\begin{bmatrix} x^3 \\\\ x^2(1-x) \\\\ x(1-x)^2 \\\\ (1-x)^3 \\end{bmatrix}$. \n",
    "\n",
    "### Question:\n",
    "\n",
    "Let p be the point $\\begin{bmatrix} a \\\\ b \\\\ c \\\\ d \\end{bmatrix}$ according to this basis. What is $p$ in the _normal_(?) basis $\\begin{bmatrix} 1 \\\\ x \\\\ x^2 \\\\ x^3  \\end{bmatrix}$?\n",
    "\n",
    "### Solution:\n",
    "\n",
    "Express $\\begin{bmatrix} a & b & c & d \\end{bmatrix}$ $\\begin{bmatrix} x^3 \\\\ x^2(1-x) \\\\ x(1-x)^2 \\\\ (1-x)^3 \\end{bmatrix}$ as $\\begin{bmatrix} ? & ? & ? & ? \\end{bmatrix}$ $\\begin{bmatrix} 1 \\\\ x \\\\ x^2 \\\\ x^3  \\end{bmatrix}$.\n",
    "\n",
    "The tedious way to do it is calculate the dot product and separate the coefficients of $1, x, x^2, x^3$. \n",
    "\n",
    "A faster way is to use the relationship between the two basis vectors.\n",
    "\n",
    "The relationship between the two basis vectors can be shown using a linear transformation as:\n",
    "\n",
    "$\\begin{bmatrix} x^3 \\\\ x^2(1-x) \\\\ x(1-x)^2 \\\\ (1-x)^3 \\end{bmatrix}$\n",
    "= $\\begin{bmatrix} 0 & 0 & 0 & 1 \\\\ 0 & 0 & 1 & -1 \\\\ 0 & 1 & -2 & 1 \\\\ 1 & -3 & 3 & -1 \\end{bmatrix}$ $\\begin{bmatrix} 1 \\\\ x \\\\ x^2 \\\\ x^3  \\end{bmatrix}$"
   ]
  },
  {
   "cell_type": "code",
   "execution_count": null,
   "id": "b30bdd82",
   "metadata": {},
   "outputs": [],
   "source": []
  }
 ],
 "metadata": {
  "@webio": {
   "lastCommId": null,
   "lastKernelId": null
  },
  "kernelspec": {
   "display_name": "Python [conda env:root] *",
   "language": "python",
   "name": "conda-root-py"
  },
  "language_info": {
   "codemirror_mode": {
    "name": "ipython",
    "version": 3
   },
   "file_extension": ".py",
   "mimetype": "text/x-python",
   "name": "python",
   "nbconvert_exporter": "python",
   "pygments_lexer": "ipython3",
   "version": "3.6.10"
  }
 },
 "nbformat": 4,
 "nbformat_minor": 5
}
